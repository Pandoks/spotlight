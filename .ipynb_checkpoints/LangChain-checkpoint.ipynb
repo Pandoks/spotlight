{
 "cells": [
  {
   "cell_type": "markdown",
   "id": "87d5f168-d778-4df6-9fb9-b7429857f4f1",
   "metadata": {},
   "source": [
    "# Document Loader"
   ]
  },
  {
   "cell_type": "code",
   "execution_count": 1,
   "id": "3f209f37-e612-4e79-8099-d5fe2dd87e12",
   "metadata": {
    "collapsed": true,
    "jupyter": {
     "outputs_hidden": true
    }
   },
   "outputs": [],
   "source": [
    "from langchain_community.document_loaders import GitLoader"
   ]
  },
  {
   "cell_type": "code",
   "execution_count": 2,
   "id": "ef23b2ab-4960-48f4-8337-06ec684d3555",
   "metadata": {
    "collapsed": true,
    "jupyter": {
     "outputs_hidden": true
    }
   },
   "outputs": [],
   "source": [
    "def load_documents(path, branch):\n",
    "    loader = GitLoader(\n",
    "        repo_path=path,\n",
    "        branch=branch\n",
    "    )\n",
    "    data = loader.load()\n",
    "    return data"
   ]
  },
  {
   "cell_type": "code",
   "execution_count": 37,
   "id": "2e4f351b-eae2-4e5f-9c70-167dcfa6ef1d",
   "metadata": {
    "collapsed": true,
    "jupyter": {
     "outputs_hidden": true
    }
   },
   "outputs": [],
   "source": [
    "data = load_documents('/Users/pandoks/Projects/spotlight', 'setup')"
   ]
  },
  {
   "cell_type": "code",
   "execution_count": 4,
   "id": "0c922f12-1cc8-464c-846b-b89e309d0fe3",
   "metadata": {
    "collapsed": true,
    "jupyter": {
     "outputs_hidden": true
    }
   },
   "outputs": [
    {
     "name": "stdout",
     "output_type": "stream",
     "text": [
      "8\n",
      "{'page_content': 'from typing import List, TypedDict\\nfrom langchain_community.embeddings.ollama import OllamaEmbeddings\\nfrom langchain_openai import OpenAIEmbeddings\\n\\n\\nclass OllamaEmbedDocumentsConfig(TypedDict):\\n    texts: List[str]\\n    model: str\\n\\n\\ndef embed_documents(config: OllamaEmbedDocumentsConfig) -> List[List[float]]:\\n    # embedder = OllamaEmbeddings(model=config[\"model\"])\\n    embedder = OpenAIEmbeddings()\\n    embeddings = embedder.embed_documents(config[\"texts\"])\\n    return embeddings\\n', 'metadata': {'source': 'retrieval/embeddings/langchain/ollama.py', 'file_path': 'retrieval/embeddings/langchain/ollama.py', 'file_name': 'ollama.py', 'file_type': '.py'}, 'type': 'Document'}\n"
     ]
    }
   ],
   "source": [
    "print(len(data))\n",
    "data_document = data[3].dict()\n",
    "print(data_document)"
   ]
  },
  {
   "cell_type": "markdown",
   "id": "49dfe62e-f86e-42ea-b325-16183b463046",
   "metadata": {},
   "source": [
    "# Document Splitter"
   ]
  },
  {
   "cell_type": "code",
   "execution_count": 5,
   "id": "98481500-5cf1-438c-95da-3df9c9f4f807",
   "metadata": {
    "collapsed": true,
    "jupyter": {
     "outputs_hidden": true
    }
   },
   "outputs": [],
   "source": [
    "from langchain_text_splitters import RecursiveCharacterTextSplitter"
   ]
  },
  {
   "cell_type": "code",
   "execution_count": 6,
   "id": "aba99bdb-2037-4942-8e4f-6ee942221a0e",
   "metadata": {
    "collapsed": true,
    "jupyter": {
     "outputs_hidden": true
    }
   },
   "outputs": [],
   "source": [
    "def split_text(documents, language, chunk_size, chunk_overlap):\n",
    "    splitter = RecursiveCharacterTextSplitter.from_language(language=language, chunk_size=chunk_size, chunk_overlap=chunk_overlap)\n",
    "    docs = splitter.split_documents(documents)\n",
    "    return docs"
   ]
  },
  {
   "cell_type": "code",
   "execution_count": 7,
   "id": "02c3e4f7-7be2-4fa2-975a-cdf2a9a395f3",
   "metadata": {
    "collapsed": true,
    "jupyter": {
     "outputs_hidden": true
    }
   },
   "outputs": [],
   "source": [
    "split = split_text(data, \"python\", 1000, 100)"
   ]
  },
  {
   "cell_type": "code",
   "execution_count": 8,
   "id": "8da292ec-61f4-4ecd-be6b-82c42e1f61af",
   "metadata": {
    "collapsed": true,
    "jupyter": {
     "outputs_hidden": true
    },
    "scrolled": true
   },
   "outputs": [
    {
     "name": "stdout",
     "output_type": "stream",
     "text": [
      "15\n",
      "[Document(page_content='.nvim*', metadata={'source': '.gitignore', 'file_path': '.gitignore', 'file_name': '.gitignore', 'file_type': ''}), Document(page_content='import sys\\nimport chromadb\\nimport argparse\\nimport uuid\\nimport json\\nfrom chromadb.utils import embedding_functions\\n\\nchromadb_client = None\\nembedding_function = None\\ncollection = None', metadata={'source': 'embeddings.py', 'file_path': 'embeddings.py', 'file_name': 'embeddings.py', 'file_type': '.py'}), Document(page_content='def main():\\n    parser = argparse.ArgumentParser()\\n    subparsers = parser.add_subparsers(dest=\"command\")\\n\\n    store_parser = subparsers.add_parser(\"store\")\\n    store_parser.add_argument(\"--collection-name\", type=str, required=True)\\n    store_parser.add_argument(\"--model\", type=str, required=True)\\n    store_parser.add_argument(\"--db-location\", type=str)\\n    store_parser.add_argument(\"--file-location\", type=str, required=True)\\n\\n    retrieve_parser = subparsers.add_parser(\"retrieve\")\\n    retrieve_parser.add_argument(\"--collection-name\", type=str, required=True)\\n    retrieve_parser.add_argument(\"--model\", type=str, required=True)\\n    retrieve_parser.add_argument(\"--result-amount\", type=int, required=True)\\n    retrieve_parser.add_argument(\"--db-location\", type=str)\\n\\n    setup_parser = subparsers.add_parser(\"setup\")\\n    setup_parser.add_argument(\"--db-location\", type=str)\\n    setup_parser.add_argument(\"--collection-name\", type=str, required=True)\\n\\n    args = parser.parse_args()', metadata={'source': 'embeddings.py', 'file_path': 'embeddings.py', 'file_name': 'embeddings.py', 'file_type': '.py'}), Document(page_content='args = parser.parse_args()\\n\\n    if args.db_location:\\n        chromadb_client = chromadb.PersistentClient(path=args.db_location)\\n    else:\\n        chromadb_client = chromadb.Client()\\n    if args.command != \"setup\":\\n        embedding_function = embedding_functions.OllamaEmbeddingFunction(\\n            url=\"http://localhost:11434/api/embeddings\", model_name=args.model\\n        )\\n        collection = chromadb_client.get_collection(name=args.collection_name)\\n\\n    if args.command == \"setup\":\\n        try:\\n            collection = chromadb_client.create_collection(name=args.collection_name)\\n            print(\"True\")\\n            return True\\n        except:\\n            print(\"False\")\\n            return False', metadata={'source': 'embeddings.py', 'file_path': 'embeddings.py', 'file_name': 'embeddings.py', 'file_type': '.py'}), Document(page_content='elif args.command == \"store\":\\n        print(args.file_location)\\n        try:\\n            content = sys.stdin.read()\\n            collection.add(\\n                documents=[content],\\n                embeddings=embedding_function([content]),\\n                metadatas=[{\"file\": args.file_location}],\\n                ids=[str(uuid.uuid4())],\\n            )\\n            print(\"True\")\\n            return True\\n        except:\\n            print(\"False\")\\n            return False\\n\\n    elif args.command == \"retrieve\":\\n        content = sys.stdin.read()\\n        queries = collection.query(\\n            query_embeddings=embedding_function([content]),\\n            n_results=args.result_amount,\\n        )\\n        print(json.dumps(queries))\\n        return queries\\n\\n\\nif __name__ == \"__main__\":\\n    main()', metadata={'source': 'embeddings.py', 'file_path': 'embeddings.py', 'file_name': 'embeddings.py', 'file_type': '.py'}), Document(page_content='local Scan = require(\"plenary.scandir\")\\nlocal Job = require(\"plenary.job\")\\nlocal Telescope = require(\"telescope.builtin\")\\nlocal Module = {}\\n\\nlocal defaultOptions = {\\n\\tollamaModel = \"llama3\",\\n\\tpersist = true,\\n\\tpythonPath = \"python\",\\n\\tdatabaseDirectory = \".nvim-spotlight\",\\n\\thidden = true,\\n\\tgitignore = true,\\n\\tqueryNumber = 10,\\n}\\nfor key, value in pairs(defaultOptions) do\\n\\tModule[key] = value\\nend\\n\\nModule.setup = function(options)\\n\\tfor key, value in pairs(options) do\\n\\t\\tModule[key] = value\\n\\tend\\nend', metadata={'source': 'lua/spotlight/init.lua', 'file_path': 'lua/spotlight/init.lua', 'file_name': 'init.lua', 'file_type': '.lua'}), Document(page_content='Module.exec = function(options)\\n\\tlocal opts = vim.tbl_deep_extend(\"force\", Module, options)\\n\\tlocal embeddings = vim.api.nvim_get_runtime_file(\"embeddings.py\", true)\\n\\tfor _, value in ipairs(embeddings) do\\n\\t\\tif value:find(\"spotlight/embeddings.py\") ~= nil then\\n\\t\\t\\tembeddings = value\\n\\t\\t\\tbreak\\n\\t\\tend\\n\\tend\\n\\tif opts.persist then\\n\\t\\tlocal directoryLocation = vim.fn.getcwd()\\n\\t\\tlocal items = vim.fs.dir(directoryLocation)\\n\\t\\tlocal isInitialized = false\\n\\t\\tfor item in items do\\n\\t\\t\\tif vim.fn.isdirectory(directoryLocation .. \"/\" .. item) == 1 and item == opts.databaseDirectory then\\n\\t\\t\\t\\tisInitialized = true\\n\\t\\t\\t\\tbreak\\n\\t\\t\\tend\\n\\t\\tend', metadata={'source': 'lua/spotlight/init.lua', 'file_path': 'lua/spotlight/init.lua', 'file_name': 'init.lua', 'file_type': '.lua'}), Document(page_content='if isInitialized then\\n\\t\\t\\tprint(\"Initialized\")\\n\\t\\t\\tlocal prompt = vim.fn.input(\"Prompt: \")\\n\\t\\t\\tlocal output = nil\\n\\t\\t\\tJob:new({\\n\\t\\t\\t\\tcommand = opts.pythonPath,\\n\\t\\t\\t\\targs = {\\n\\t\\t\\t\\t\\tembeddings,\\n\\t\\t\\t\\t\\t\"retrieve\",\\n\\t\\t\\t\\t\\t\"--db-location\",\\n\\t\\t\\t\\t\\tdirectoryLocation .. \"/\" .. opts.databaseDirectory,\\n\\t\\t\\t\\t\\t\"--collection-name\",\\n\\t\\t\\t\\t\\t\"spotlight\",\\n\\t\\t\\t\\t\\t\"--model\",\\n\\t\\t\\t\\t\\topts.ollamaModel,\\n\\t\\t\\t\\t\\t\"--result-amount\",\\n\\t\\t\\t\\t\\topts.queryNumber,\\n\\t\\t\\t\\t},\\n\\t\\t\\t\\twriter = prompt,\\n\\t\\t\\t\\ton_exit = function(job)\\n\\t\\t\\t\\t\\toutput = job:result()[1]\\n\\t\\t\\t\\tend,\\n\\t\\t\\t}):sync()\\n\\n\\t\\t\\tlocal queryOutput = vim.json.decode(output)\\n\\t\\t\\tlocal files = queryOutput.metadatas[1]\\n\\t\\t\\tlocal fileList = {}\\n\\t\\t\\tfor _, file in ipairs(files) do\\n\\t\\t\\t\\tprint(file.file)\\n\\t\\t\\t\\ttable.insert(fileList, file.file)\\n\\t\\t\\tend', metadata={'source': 'lua/spotlight/init.lua', 'file_path': 'lua/spotlight/init.lua', 'file_name': 'init.lua', 'file_type': '.lua'}), Document(page_content='Telescope.find_files({\\n\\t\\t\\t\\tprompt_title = \"test\",\\n\\t\\t\\t\\tcwd = vim.fn.getcwd(),\\n\\t\\t\\t\\tsearch_dirs = fileList,\\n\\t\\t\\t\\tattach_mappings = function(_, map)\\n\\t\\t\\t\\t\\tmap(\"i\", \"<CR>\", function(prompt_bufnr)\\n\\t\\t\\t\\t\\t\\tlocal selection = require(\"telescope.actions.state\").get_selected_entry(prompt_bufnr)\\n\\t\\t\\t\\t\\t\\trequire(\"telescope.actions\").close(prompt_bufnr)\\n\\t\\t\\t\\t\\t\\tvim.api.nvim_command(\"edit \" .. selection.path)\\n\\t\\t\\t\\t\\tend)\\n\\t\\t\\t\\t\\treturn true\\n\\t\\t\\t\\tend,\\n\\t\\t\\t})\\n\\t\\telse\\n\\t\\t\\tprint(\"Initializing...\")\\n\\t\\t\\tlocal setupCommand = opts.pythonPath\\n\\t\\t\\t\\t.. \" \"\\n\\t\\t\\t\\t.. embeddings\\n\\t\\t\\t\\t.. \" setup --db-location \"\\n\\t\\t\\t\\t.. directoryLocation\\n\\t\\t\\t\\t.. \"/\"\\n\\t\\t\\t\\t.. opts.databaseDirectory\\n\\t\\t\\t\\t.. \" --collection-name spotlight\"\\n\\t\\t\\tos.execute(setupCommand)\\n\\t\\t\\tprint(\"Created vector database at \" .. directoryLocation .. \"/\" .. opts.databaseDirectory)', metadata={'source': 'lua/spotlight/init.lua', 'file_path': 'lua/spotlight/init.lua', 'file_name': 'init.lua', 'file_type': '.lua'}), Document(page_content='print(\"Uploading codebase to the vector database (this may take some time)\")\\n\\t\\t\\tlocal files = Scan.scan_dir(directoryLocation, {\\n\\t\\t\\t\\thidden = options.hidden,\\n\\t\\t\\t\\trespect_gitignore = options.gitignore,\\n\\t\\t\\t})\\n\\t\\t\\tfor _, filePath in ipairs(files) do\\n\\t\\t\\t\\tif options.gitignore and (filePath:find(\"%.git/\") or filePath:find(\"/.git$\")) then\\n\\t\\t\\t\\t\\tgoto continue\\n\\t\\t\\t\\tend\\n\\n\\t\\t\\t\\tprint(filePath)\\n\\n\\t\\t\\t\\tlocal databaseDirectoryMatchPattern =\\n\\t\\t\\t\\t\\topts.databaseDirectory:gsub(\"([%%%^%$%(%)%.%[%]%*%+%-%?])\", \"%%%1\")\\n\\t\\t\\t\\tif filePath:find(databaseDirectoryMatchPattern .. \"/\") then\\n\\t\\t\\t\\t\\tgoto continue\\n\\t\\t\\t\\tend', metadata={'source': 'lua/spotlight/init.lua', 'file_path': 'lua/spotlight/init.lua', 'file_name': 'init.lua', 'file_type': '.lua'}), Document(page_content='local file = io.open(filePath, \"r\")\\n\\t\\t\\t\\tif not file then\\n\\t\\t\\t\\t\\tgoto continue\\n\\t\\t\\t\\tend\\n\\t\\t\\t\\tlocal content = file:read(\"*all\")\\n\\t\\t\\t\\tfile:close()\\n\\t\\t\\t\\tlocal insertCommand = opts.pythonPath\\n\\t\\t\\t\\t\\t.. \" \"\\n\\t\\t\\t\\t\\t.. embeddings\\n\\t\\t\\t\\t\\t.. \" store --db-location \"\\n\\t\\t\\t\\t\\t.. directoryLocation\\n\\t\\t\\t\\t\\t.. \"/\"\\n\\t\\t\\t\\t\\t.. opts.databaseDirectory\\n\\t\\t\\t\\t\\t.. \" --collection-name spotlight --model \"\\n\\t\\t\\t\\t\\t.. opts.ollamaModel\\n\\t\\t\\t\\t\\t.. \" --file-location \"\\n\\t\\t\\t\\t\\t.. filePath\\n\\t\\t\\t\\tlocal handle = io.popen(insertCommand, \"w\")\\n\\t\\t\\t\\tif not handle then\\n\\t\\t\\t\\t\\tgoto continue\\n\\t\\t\\t\\tend\\n\\t\\t\\t\\thandle:write(content)\\n\\t\\t\\t\\thandle:close()\\n\\n\\t\\t\\t\\t::continue::\\n\\t\\t\\tend\\n\\t\\tend\\n\\tend\\nend\\n\\nvim.api.nvim_create_user_command(\"Spotlight\", function()\\n\\tModule.exec(defaultOptions)\\nend, {})\\n\\nreturn Module', metadata={'source': 'lua/spotlight/init.lua', 'file_path': 'lua/spotlight/init.lua', 'file_name': 'init.lua', 'file_type': '.lua'}), Document(page_content='from typing import List, TypedDict\\nfrom langchain_community.embeddings.ollama import OllamaEmbeddings\\nfrom langchain_openai import OpenAIEmbeddings\\n\\n\\nclass OllamaEmbedDocumentsConfig(TypedDict):\\n    texts: List[str]\\n    model: str\\n\\n\\ndef embed_documents(config: OllamaEmbedDocumentsConfig) -> List[List[float]]:\\n    # embedder = OllamaEmbeddings(model=config[\"model\"])\\n    embedder = OpenAIEmbeddings()\\n    embeddings = embedder.embed_documents(config[\"texts\"])\\n    return embeddings', metadata={'source': 'retrieval/embeddings/langchain/ollama.py', 'file_path': 'retrieval/embeddings/langchain/ollama.py', 'file_name': 'ollama.py', 'file_type': '.py'}), Document(page_content='from typing import Callable, List, Optional, TypedDict\\nfrom langchain_community.document_loaders import GitLoader\\nfrom langchain_core.documents import Document\\n\\n\\nclass GitLoadDocumentsConfig(TypedDict):\\n    path: str\\n    branch: str\\n    file_filter: Optional[Callable[[str], bool]]\\n\\n\\n# https://python.langchain.com/v0.1/docs/integrations/document_loaders/git/#load-existing-repository-from-disk\\ndef load_documents(config: GitLoadDocumentsConfig) -> List[Document]:\\n    loader = GitLoader(\\n        repo_path=config[\"path\"],\\n        branch=config[\"branch\"],\\n        file_filter=config[\"file_filter\"],\\n    )\\n    data = loader.load()\\n    return data', metadata={'source': 'retrieval/loaders/langchain/git.py', 'file_path': 'retrieval/loaders/langchain/git.py', 'file_name': 'git.py', 'file_type': '.py'}), Document(page_content='from typing import List, Optional, TypedDict\\nfrom langchain_core.documents import Document\\nfrom langchain_text_splitters import Language, RecursiveCharacterTextSplitter\\n\\n\\nclass CodeSplitTextConfig(TypedDict):\\n    text: str\\n    language: Language\\n    chunk_size: Optional[int]\\n    chunk_overlap: Optional[int]\\n\\n\\n# https://python.langchain.com/v0.1/docs/modules/data_connection/document_transformers/code_splitter/\\ndef split_text(config: CodeSplitTextConfig) -> List[Document]:\\n    chunk_size = config.get(\"chunk_size\", 50)\\n    chunk_overlap = config.get(\"chunk_overlap\", 0)\\n    splitter = RecursiveCharacterTextSplitter.from_language(\\n        language=config[\"language\"], chunk_size=chunk_size, chunk_overlap=chunk_overlap\\n    )\\n    docs = splitter.create_documents([config[\"text\"]])\\n    return docs', metadata={'source': 'retrieval/splitters/langchain/code.py', 'file_path': 'retrieval/splitters/langchain/code.py', 'file_name': 'code.py', 'file_type': '.py'}), Document(page_content='from typing import List, Optional, TypedDict\\nfrom chromadb.api.types import Where, WhereDocument\\nfrom langchain_chroma import Chroma\\nfrom langchain_core.documents import Document\\nfrom langchain_core.embeddings import Embeddings\\n\\n\\nclass ChromaSetupConfig(TypedDict):\\n    collection_name: str\\n    embedding_function: Optional[Embeddings]\\n    persistent_directory: Optional[str]\\n\\n\\nclass ChromaStoreConfig(TypedDict):\\n    documents: List[Document]\\n    database: Chroma\\n\\n\\n# https://python.langchain.com/v0.1/docs/integrations/vectorstores/chroma/\\ndef setup_database(config: ChromaSetupConfig) -> Chroma:\\n    database = Chroma(\\n        collection_name=config[\"collection_name\"],\\n        embedding_function=config[\"embedding_function\"],\\n        persist_directory=config[\"persistent_directory\"],\\n    )\\n    return database\\n\\n\\n# def upsert(config: ChromaStoreConfig) -> List[str]:\\n#     return config[\"database\"].add_documents(config[\"documents\"]\\\\)', metadata={'source': 'retrieval/stores/langchain/chroma.py', 'file_path': 'retrieval/stores/langchain/chroma.py', 'file_name': 'chroma.py', 'file_type': '.py'})]\n"
     ]
    }
   ],
   "source": [
    "print(len(split))\n",
    "print(split)"
   ]
  },
  {
   "cell_type": "code",
   "execution_count": 9,
   "id": "b2dc79ea-b212-479a-84b3-78bd928642cc",
   "metadata": {
    "collapsed": true,
    "jupyter": {
     "outputs_hidden": true
    }
   },
   "outputs": [],
   "source": [
    "texts = [doc.page_content for doc in split]\n",
    "metadatas = [doc.metadata for doc in split]"
   ]
  },
  {
   "cell_type": "markdown",
   "id": "0f433336-6d2a-40fb-867f-31bf5d67ff87",
   "metadata": {},
   "source": [
    "# Embeddings"
   ]
  },
  {
   "cell_type": "code",
   "execution_count": 10,
   "id": "1a2f5288-921d-4275-be91-923e143553c4",
   "metadata": {
    "collapsed": true,
    "jupyter": {
     "outputs_hidden": true
    }
   },
   "outputs": [],
   "source": [
    "from langchain_community.embeddings.ollama import OllamaEmbeddings"
   ]
  },
  {
   "cell_type": "code",
   "execution_count": 11,
   "id": "34a4964f-6ec7-4644-8c94-60123214ac95",
   "metadata": {
    "collapsed": true,
    "jupyter": {
     "outputs_hidden": true
    }
   },
   "outputs": [],
   "source": [
    "def embed_documents(texts, model):\n",
    "    embedder = OllamaEmbeddings(model=model)\n",
    "    embeddings = embedder.embed_documents(texts)\n",
    "    return embeddings"
   ]
  },
  {
   "cell_type": "code",
   "execution_count": 12,
   "id": "58fc95f9-8922-4073-900e-b75b60cba226",
   "metadata": {
    "collapsed": true,
    "jupyter": {
     "outputs_hidden": true
    }
   },
   "outputs": [],
   "source": [
    "# embeddings = embed_documents(texts, \"llama3\")"
   ]
  },
  {
   "cell_type": "markdown",
   "id": "4d40dfaa-fc1a-495e-8339-538042b5931f",
   "metadata": {},
   "source": [
    "# Vector Store"
   ]
  },
  {
   "cell_type": "code",
   "execution_count": 13,
   "id": "9a5021cd-75bc-4c71-ad7e-59079fcf4f89",
   "metadata": {
    "collapsed": true,
    "jupyter": {
     "outputs_hidden": true
    }
   },
   "outputs": [],
   "source": [
    "from langchain_chroma import Chroma\n",
    "from langchain_core.documents import Document\n",
    "from hashlib import sha256"
   ]
  },
  {
   "cell_type": "code",
   "execution_count": 14,
   "id": "f229bda1-94a9-4828-a18c-8820af626eb6",
   "metadata": {
    "collapsed": true,
    "jupyter": {
     "outputs_hidden": true
    }
   },
   "outputs": [],
   "source": [
    "def setup_database(collection_name, embedding_function, persist_directory):\n",
    "    database = Chroma(\n",
    "        collection_name=collection_name,\n",
    "        embedding_function=embedding_function,\n",
    "        persist_directory=persist_directory\n",
    "    )\n",
    "    return database"
   ]
  },
  {
   "cell_type": "code",
   "execution_count": 15,
   "id": "62af6296-8305-4df8-8540-d13a9afa3eab",
   "metadata": {
    "collapsed": true,
    "jupyter": {
     "outputs_hidden": true
    }
   },
   "outputs": [],
   "source": [
    "database = setup_database(\"spotlight\", OllamaEmbeddings(model=\"llama3-chatqa\"), \"/Users/pandoks/Projects/spotlight/.test\")"
   ]
  },
  {
   "cell_type": "code",
   "execution_count": 16,
   "id": "2924d5b9-3cd5-4a6e-9c9a-b13a7ef5231a",
   "metadata": {
    "collapsed": true,
    "jupyter": {
     "outputs_hidden": true
    }
   },
   "outputs": [],
   "source": [
    "def add(db, documents):\n",
    "    documents_with_hashes = []\n",
    "    for document in documents:\n",
    "        document = document.dict()\n",
    "        page_content = document[\"page_content\"]\n",
    "        hashed_page_content = sha256(page_content.encode(\"utf-8\")).hexdigest()\n",
    "        print(hashed_page_content)\n",
    "\n",
    "        new_metadata = document[\"metadata\"]\n",
    "        new_metadata[\"hash\"] = hashed_page_content\n",
    "\n",
    "        query_filter = {\n",
    "            \"$and\":\n",
    "                [\n",
    "                    {'source': new_metadata[\"source\"]},\n",
    "                    {'file_path': new_metadata[\"file_path\"]},\n",
    "                    {'file_name': new_metadata[\"file_name\"]},\n",
    "                    {'file_type': new_metadata[\"file_type\"]},\n",
    "                    {'hash': new_metadata[\"hash\"]}\n",
    "                ]\n",
    "        }\n",
    "        existing_documents = db.get(where=query_filter)\n",
    "        print(existing_documents)\n",
    "        if not len(existing_documents[\"ids\"]):\n",
    "            documents_with_hashes.append(Document(page_content, metadata=new_metadata))\n",
    "        \n",
    "    if not len(documents_with_hashes):\n",
    "        return\n",
    "    return db.add_documents(documents_with_hashes)"
   ]
  },
  {
   "cell_type": "code",
   "execution_count": 17,
   "id": "bd59bfd0-4ca4-4b2f-9d9c-44a1540a22bd",
   "metadata": {
    "collapsed": true,
    "jupyter": {
     "outputs_hidden": true
    }
   },
   "outputs": [],
   "source": [
    "def delete(db, metadatas):\n",
    "    for metadata in metadatas:\n",
    "        query_filter_list = []\n",
    "        for key, value in metadata.items():\n",
    "            query_filter_list.append({key: value})\n",
    "        query_filter = None\n",
    "        if len(query_filter_list) == 1:\n",
    "            query_filter = query_filter_list[0]\n",
    "        else:\n",
    "            query_filter = {\n",
    "                \"$and\": query_filter_list\n",
    "            }\n",
    "        to_be_deleted_documents = db.get(where=query_filter)\n",
    "        to_be_deleted_ids = to_be_deleted_documents[\"ids\"]\n",
    "        if not len(to_be_deleted_ids):\n",
    "            return\n",
    "        db.delete(ids=to_be_deleted_ids)\n",
    "        return to_be_deleted_ids"
   ]
  },
  {
   "cell_type": "code",
   "execution_count": 18,
   "id": "3fe2366a-2b1f-482a-b716-12cf048eebf9",
   "metadata": {
    "collapsed": true,
    "jupyter": {
     "outputs_hidden": true
    }
   },
   "outputs": [],
   "source": [
    "def update(db, documents):\n",
    "    metadatas = []\n",
    "    for document in documents:\n",
    "        metadata = document.dict()[\"metadata\"]\n",
    "        if metadata not in metadatas:\n",
    "            metadatas.append(metadata)\n",
    "    print(metadatas)\n",
    "    delete(db, metadatas)\n",
    "    return add(db, documents)"
   ]
  },
  {
   "cell_type": "code",
   "execution_count": 19,
   "id": "fbfa4174-1721-4b26-84a6-7fcddaaddc0a",
   "metadata": {
    "collapsed": true,
    "jupyter": {
     "outputs_hidden": true
    },
    "scrolled": true
   },
   "outputs": [
    {
     "name": "stdout",
     "output_type": "stream",
     "text": [
      "c9205effb86dc516823576184de6289b22fe2bcabec9821c8d289f424055dbea\n",
      "{'ids': [], 'embeddings': None, 'metadatas': [], 'documents': [], 'uris': None, 'data': None}\n",
      "a29b5858d0a2da42baeaa6182db28e72d576e5c60b1999aaf0e4d8a6068f42a7\n",
      "{'ids': [], 'embeddings': None, 'metadatas': [], 'documents': [], 'uris': None, 'data': None}\n",
      "b28bd2ae72559fa2e98c6839ac3d417e20303a39eb4aa6eba7565f7798e693b4\n",
      "{'ids': [], 'embeddings': None, 'metadatas': [], 'documents': [], 'uris': None, 'data': None}\n",
      "a2e4f8d5fd117c5ce705cb657cc4d14e9fb1a64449e621ccfc574077a9cc6a82\n",
      "{'ids': [], 'embeddings': None, 'metadatas': [], 'documents': [], 'uris': None, 'data': None}\n",
      "4370a904b403a602bb9eaef38c8028841566c864505a21eaf244134f431e28e1\n",
      "{'ids': [], 'embeddings': None, 'metadatas': [], 'documents': [], 'uris': None, 'data': None}\n",
      "07a29444784e21dd8a3f02c84d1f97e945b304f046dc3df2716147237d4d68b9\n",
      "{'ids': [], 'embeddings': None, 'metadatas': [], 'documents': [], 'uris': None, 'data': None}\n",
      "b6ddd2532873eedba34182a94240915cb10cab3e6fe61cb0abdcf7152e810c42\n",
      "{'ids': [], 'embeddings': None, 'metadatas': [], 'documents': [], 'uris': None, 'data': None}\n",
      "fe00a95a8b534dc40b7dffd97902ed59d88f81a8f3f886e5fd97c703a373337a\n",
      "{'ids': [], 'embeddings': None, 'metadatas': [], 'documents': [], 'uris': None, 'data': None}\n",
      "3fd1af3a00de3b78a00967d900d19b98dffe0c01c1a47370374950539773d385\n",
      "{'ids': [], 'embeddings': None, 'metadatas': [], 'documents': [], 'uris': None, 'data': None}\n",
      "25d0e1cceb10acc12ee0f4e5c3f367b50e642a52e1df04e80618e12d3c7e3df4\n",
      "{'ids': [], 'embeddings': None, 'metadatas': [], 'documents': [], 'uris': None, 'data': None}\n",
      "43441cd566f3aa6b646c6fc5ed0dbf3a1500c2628f26557ba8c7cb4449667880\n",
      "{'ids': [], 'embeddings': None, 'metadatas': [], 'documents': [], 'uris': None, 'data': None}\n",
      "0fa9f225ccbcb8a44d9f0ee0a92d1a0a9e504bb01b467646235a7ccf8603f0a0\n",
      "{'ids': [], 'embeddings': None, 'metadatas': [], 'documents': [], 'uris': None, 'data': None}\n",
      "d200aa2f79cbdb7bb0d3bd6775f092c4bb43424137ef181a03e7da7b1f67466d\n",
      "{'ids': [], 'embeddings': None, 'metadatas': [], 'documents': [], 'uris': None, 'data': None}\n",
      "03f729e8dd688e824588ca469ad395414df221082225ef89655e57f2d3292779\n",
      "{'ids': [], 'embeddings': None, 'metadatas': [], 'documents': [], 'uris': None, 'data': None}\n",
      "3a2b77ea23ae0ad2a7c2490782cfb7c1557c96705b745ed8359bfc94e2a8d154\n",
      "{'ids': [], 'embeddings': None, 'metadatas': [], 'documents': [], 'uris': None, 'data': None}\n"
     ]
    }
   ],
   "source": [
    "added_ids = add(database, split)"
   ]
  },
  {
   "cell_type": "code",
   "execution_count": 171,
   "id": "83b84cc1-c982-4d69-86cb-d944f02fd289",
   "metadata": {
    "collapsed": true,
    "jupyter": {
     "outputs_hidden": true
    }
   },
   "outputs": [],
   "source": [
    "deleted_ids = delete(database, [{'file_type': '.py'}])"
   ]
  },
  {
   "cell_type": "code",
   "execution_count": 38,
   "id": "62211842-78c5-464a-b4c3-ebb16993b45d",
   "metadata": {
    "collapsed": true,
    "jupyter": {
     "outputs_hidden": true
    },
    "scrolled": true
   },
   "outputs": [
    {
     "name": "stdout",
     "output_type": "stream",
     "text": [
      "[{'source': '.gitignore', 'file_path': '.gitignore', 'file_name': '.gitignore', 'file_type': ''}, {'source': 'embeddings.py', 'file_path': 'embeddings.py', 'file_name': 'embeddings.py', 'file_type': '.py'}, {'source': 'lua/spotlight/init.lua', 'file_path': 'lua/spotlight/init.lua', 'file_name': 'init.lua', 'file_type': '.lua'}, {'source': 'retrieval/embeddings/langchain/ollama.py', 'file_path': 'retrieval/embeddings/langchain/ollama.py', 'file_name': 'ollama.py', 'file_type': '.py'}, {'source': 'retrieval/loaders/langchain/git.py', 'file_path': 'retrieval/loaders/langchain/git.py', 'file_name': 'git.py', 'file_type': '.py'}, {'source': 'retrieval/splitters/langchain/code.py', 'file_path': 'retrieval/splitters/langchain/code.py', 'file_name': 'code.py', 'file_type': '.py'}, {'source': 'retrieval/stores/langchain/chroma.py', 'file_path': 'retrieval/stores/langchain/chroma.py', 'file_name': 'chroma.py', 'file_type': '.py'}]\n",
      "c9205effb86dc516823576184de6289b22fe2bcabec9821c8d289f424055dbea\n",
      "{'ids': [], 'embeddings': None, 'metadatas': [], 'documents': [], 'uris': None, 'data': None}\n",
      "a29b5858d0a2da42baeaa6182db28e72d576e5c60b1999aaf0e4d8a6068f42a7\n",
      "{'ids': ['428abb56-e076-479e-9077-48fcd620cbad'], 'embeddings': None, 'metadatas': [{'file_name': 'embeddings.py', 'file_path': 'embeddings.py', 'file_type': '.py', 'hash': 'a29b5858d0a2da42baeaa6182db28e72d576e5c60b1999aaf0e4d8a6068f42a7', 'source': 'embeddings.py'}], 'documents': ['import sys\\nimport chromadb\\nimport argparse\\nimport uuid\\nimport json\\nfrom chromadb.utils import embedding_functions\\n\\nchromadb_client = None\\nembedding_function = None\\ncollection = None'], 'uris': None, 'data': None}\n",
      "b28bd2ae72559fa2e98c6839ac3d417e20303a39eb4aa6eba7565f7798e693b4\n",
      "{'ids': ['3a872450-26cb-45b9-8aa6-0555cdbc8b3a'], 'embeddings': None, 'metadatas': [{'file_name': 'embeddings.py', 'file_path': 'embeddings.py', 'file_type': '.py', 'hash': 'b28bd2ae72559fa2e98c6839ac3d417e20303a39eb4aa6eba7565f7798e693b4', 'source': 'embeddings.py'}], 'documents': ['def main():\\n    parser = argparse.ArgumentParser()\\n    subparsers = parser.add_subparsers(dest=\"command\")\\n\\n    store_parser = subparsers.add_parser(\"store\")\\n    store_parser.add_argument(\"--collection-name\", type=str, required=True)\\n    store_parser.add_argument(\"--model\", type=str, required=True)\\n    store_parser.add_argument(\"--db-location\", type=str)\\n    store_parser.add_argument(\"--file-location\", type=str, required=True)\\n\\n    retrieve_parser = subparsers.add_parser(\"retrieve\")\\n    retrieve_parser.add_argument(\"--collection-name\", type=str, required=True)\\n    retrieve_parser.add_argument(\"--model\", type=str, required=True)\\n    retrieve_parser.add_argument(\"--result-amount\", type=int, required=True)\\n    retrieve_parser.add_argument(\"--db-location\", type=str)\\n\\n    setup_parser = subparsers.add_parser(\"setup\")\\n    setup_parser.add_argument(\"--db-location\", type=str)\\n    setup_parser.add_argument(\"--collection-name\", type=str, required=True)\\n\\n    args = parser.parse_args()'], 'uris': None, 'data': None}\n",
      "a2e4f8d5fd117c5ce705cb657cc4d14e9fb1a64449e621ccfc574077a9cc6a82\n",
      "{'ids': ['43c10404-4f01-425a-bbd3-c0ebf10cd008'], 'embeddings': None, 'metadatas': [{'file_name': 'embeddings.py', 'file_path': 'embeddings.py', 'file_type': '.py', 'hash': 'a2e4f8d5fd117c5ce705cb657cc4d14e9fb1a64449e621ccfc574077a9cc6a82', 'source': 'embeddings.py'}], 'documents': ['args = parser.parse_args()\\n\\n    if args.db_location:\\n        chromadb_client = chromadb.PersistentClient(path=args.db_location)\\n    else:\\n        chromadb_client = chromadb.Client()\\n    if args.command != \"setup\":\\n        embedding_function = embedding_functions.OllamaEmbeddingFunction(\\n            url=\"http://localhost:11434/api/embeddings\", model_name=args.model\\n        )\\n        collection = chromadb_client.get_collection(name=args.collection_name)\\n\\n    if args.command == \"setup\":\\n        try:\\n            collection = chromadb_client.create_collection(name=args.collection_name)\\n            print(\"True\")\\n            return True\\n        except:\\n            print(\"False\")\\n            return False'], 'uris': None, 'data': None}\n",
      "4370a904b403a602bb9eaef38c8028841566c864505a21eaf244134f431e28e1\n",
      "{'ids': ['d46c894c-37d3-478f-94e2-e3fa0fef0c58'], 'embeddings': None, 'metadatas': [{'file_name': 'embeddings.py', 'file_path': 'embeddings.py', 'file_type': '.py', 'hash': '4370a904b403a602bb9eaef38c8028841566c864505a21eaf244134f431e28e1', 'source': 'embeddings.py'}], 'documents': ['elif args.command == \"store\":\\n        print(args.file_location)\\n        try:\\n            content = sys.stdin.read()\\n            collection.add(\\n                documents=[content],\\n                embeddings=embedding_function([content]),\\n                metadatas=[{\"file\": args.file_location}],\\n                ids=[str(uuid.uuid4())],\\n            )\\n            print(\"True\")\\n            return True\\n        except:\\n            print(\"False\")\\n            return False\\n\\n    elif args.command == \"retrieve\":\\n        content = sys.stdin.read()\\n        queries = collection.query(\\n            query_embeddings=embedding_function([content]),\\n            n_results=args.result_amount,\\n        )\\n        print(json.dumps(queries))\\n        return queries\\n\\n\\nif __name__ == \"__main__\":\\n    main()'], 'uris': None, 'data': None}\n",
      "07a29444784e21dd8a3f02c84d1f97e945b304f046dc3df2716147237d4d68b9\n",
      "{'ids': ['ff9fe069-81e2-4ed0-90f2-3ed24494def1'], 'embeddings': None, 'metadatas': [{'file_name': 'init.lua', 'file_path': 'lua/spotlight/init.lua', 'file_type': '.lua', 'hash': '07a29444784e21dd8a3f02c84d1f97e945b304f046dc3df2716147237d4d68b9', 'source': 'lua/spotlight/init.lua'}], 'documents': ['local Scan = require(\"plenary.scandir\")\\nlocal Job = require(\"plenary.job\")\\nlocal Telescope = require(\"telescope.builtin\")\\nlocal Module = {}\\n\\nlocal defaultOptions = {\\n\\tollamaModel = \"llama3\",\\n\\tpersist = true,\\n\\tpythonPath = \"python\",\\n\\tdatabaseDirectory = \".nvim-spotlight\",\\n\\thidden = true,\\n\\tgitignore = true,\\n\\tqueryNumber = 10,\\n}\\nfor key, value in pairs(defaultOptions) do\\n\\tModule[key] = value\\nend\\n\\nModule.setup = function(options)\\n\\tfor key, value in pairs(options) do\\n\\t\\tModule[key] = value\\n\\tend\\nend'], 'uris': None, 'data': None}\n",
      "b6ddd2532873eedba34182a94240915cb10cab3e6fe61cb0abdcf7152e810c42\n",
      "{'ids': ['eb78cc0e-2d54-4f0f-ab24-4056b11e7c1f'], 'embeddings': None, 'metadatas': [{'file_name': 'init.lua', 'file_path': 'lua/spotlight/init.lua', 'file_type': '.lua', 'hash': 'b6ddd2532873eedba34182a94240915cb10cab3e6fe61cb0abdcf7152e810c42', 'source': 'lua/spotlight/init.lua'}], 'documents': ['Module.exec = function(options)\\n\\tlocal opts = vim.tbl_deep_extend(\"force\", Module, options)\\n\\tlocal embeddings = vim.api.nvim_get_runtime_file(\"embeddings.py\", true)\\n\\tfor _, value in ipairs(embeddings) do\\n\\t\\tif value:find(\"spotlight/embeddings.py\") ~= nil then\\n\\t\\t\\tembeddings = value\\n\\t\\t\\tbreak\\n\\t\\tend\\n\\tend\\n\\tif opts.persist then\\n\\t\\tlocal directoryLocation = vim.fn.getcwd()\\n\\t\\tlocal items = vim.fs.dir(directoryLocation)\\n\\t\\tlocal isInitialized = false\\n\\t\\tfor item in items do\\n\\t\\t\\tif vim.fn.isdirectory(directoryLocation .. \"/\" .. item) == 1 and item == opts.databaseDirectory then\\n\\t\\t\\t\\tisInitialized = true\\n\\t\\t\\t\\tbreak\\n\\t\\t\\tend\\n\\t\\tend'], 'uris': None, 'data': None}\n",
      "fe00a95a8b534dc40b7dffd97902ed59d88f81a8f3f886e5fd97c703a373337a\n",
      "{'ids': ['f93f67f3-05a4-4929-ae67-c60d37b0c3a6'], 'embeddings': None, 'metadatas': [{'file_name': 'init.lua', 'file_path': 'lua/spotlight/init.lua', 'file_type': '.lua', 'hash': 'fe00a95a8b534dc40b7dffd97902ed59d88f81a8f3f886e5fd97c703a373337a', 'source': 'lua/spotlight/init.lua'}], 'documents': ['if isInitialized then\\n\\t\\t\\tprint(\"Initialized\")\\n\\t\\t\\tlocal prompt = vim.fn.input(\"Prompt: \")\\n\\t\\t\\tlocal output = nil\\n\\t\\t\\tJob:new({\\n\\t\\t\\t\\tcommand = opts.pythonPath,\\n\\t\\t\\t\\targs = {\\n\\t\\t\\t\\t\\tembeddings,\\n\\t\\t\\t\\t\\t\"retrieve\",\\n\\t\\t\\t\\t\\t\"--db-location\",\\n\\t\\t\\t\\t\\tdirectoryLocation .. \"/\" .. opts.databaseDirectory,\\n\\t\\t\\t\\t\\t\"--collection-name\",\\n\\t\\t\\t\\t\\t\"spotlight\",\\n\\t\\t\\t\\t\\t\"--model\",\\n\\t\\t\\t\\t\\topts.ollamaModel,\\n\\t\\t\\t\\t\\t\"--result-amount\",\\n\\t\\t\\t\\t\\topts.queryNumber,\\n\\t\\t\\t\\t},\\n\\t\\t\\t\\twriter = prompt,\\n\\t\\t\\t\\ton_exit = function(job)\\n\\t\\t\\t\\t\\toutput = job:result()[1]\\n\\t\\t\\t\\tend,\\n\\t\\t\\t}):sync()\\n\\n\\t\\t\\tlocal queryOutput = vim.json.decode(output)\\n\\t\\t\\tlocal files = queryOutput.metadatas[1]\\n\\t\\t\\tlocal fileList = {}\\n\\t\\t\\tfor _, file in ipairs(files) do\\n\\t\\t\\t\\tprint(file.file)\\n\\t\\t\\t\\ttable.insert(fileList, file.file)\\n\\t\\t\\tend'], 'uris': None, 'data': None}\n",
      "3fd1af3a00de3b78a00967d900d19b98dffe0c01c1a47370374950539773d385\n",
      "{'ids': ['9db637c2-3668-41bf-ae00-e62ea2f97d9e'], 'embeddings': None, 'metadatas': [{'file_name': 'init.lua', 'file_path': 'lua/spotlight/init.lua', 'file_type': '.lua', 'hash': '3fd1af3a00de3b78a00967d900d19b98dffe0c01c1a47370374950539773d385', 'source': 'lua/spotlight/init.lua'}], 'documents': ['Telescope.find_files({\\n\\t\\t\\t\\tprompt_title = \"test\",\\n\\t\\t\\t\\tcwd = vim.fn.getcwd(),\\n\\t\\t\\t\\tsearch_dirs = fileList,\\n\\t\\t\\t\\tattach_mappings = function(_, map)\\n\\t\\t\\t\\t\\tmap(\"i\", \"<CR>\", function(prompt_bufnr)\\n\\t\\t\\t\\t\\t\\tlocal selection = require(\"telescope.actions.state\").get_selected_entry(prompt_bufnr)\\n\\t\\t\\t\\t\\t\\trequire(\"telescope.actions\").close(prompt_bufnr)\\n\\t\\t\\t\\t\\t\\tvim.api.nvim_command(\"edit \" .. selection.path)\\n\\t\\t\\t\\t\\tend)\\n\\t\\t\\t\\t\\treturn true\\n\\t\\t\\t\\tend,\\n\\t\\t\\t})\\n\\t\\telse\\n\\t\\t\\tprint(\"Initializing...\")\\n\\t\\t\\tlocal setupCommand = opts.pythonPath\\n\\t\\t\\t\\t.. \" \"\\n\\t\\t\\t\\t.. embeddings\\n\\t\\t\\t\\t.. \" setup --db-location \"\\n\\t\\t\\t\\t.. directoryLocation\\n\\t\\t\\t\\t.. \"/\"\\n\\t\\t\\t\\t.. opts.databaseDirectory\\n\\t\\t\\t\\t.. \" --collection-name spotlight\"\\n\\t\\t\\tos.execute(setupCommand)\\n\\t\\t\\tprint(\"Created vector database at \" .. directoryLocation .. \"/\" .. opts.databaseDirectory)'], 'uris': None, 'data': None}\n",
      "25d0e1cceb10acc12ee0f4e5c3f367b50e642a52e1df04e80618e12d3c7e3df4\n",
      "{'ids': ['f1bd77a4-f5be-4c86-bc39-540feae5cf04'], 'embeddings': None, 'metadatas': [{'file_name': 'init.lua', 'file_path': 'lua/spotlight/init.lua', 'file_type': '.lua', 'hash': '25d0e1cceb10acc12ee0f4e5c3f367b50e642a52e1df04e80618e12d3c7e3df4', 'source': 'lua/spotlight/init.lua'}], 'documents': ['print(\"Uploading codebase to the vector database (this may take some time)\")\\n\\t\\t\\tlocal files = Scan.scan_dir(directoryLocation, {\\n\\t\\t\\t\\thidden = options.hidden,\\n\\t\\t\\t\\trespect_gitignore = options.gitignore,\\n\\t\\t\\t})\\n\\t\\t\\tfor _, filePath in ipairs(files) do\\n\\t\\t\\t\\tif options.gitignore and (filePath:find(\"%.git/\") or filePath:find(\"/.git$\")) then\\n\\t\\t\\t\\t\\tgoto continue\\n\\t\\t\\t\\tend\\n\\n\\t\\t\\t\\tprint(filePath)\\n\\n\\t\\t\\t\\tlocal databaseDirectoryMatchPattern =\\n\\t\\t\\t\\t\\topts.databaseDirectory:gsub(\"([%%%^%$%(%)%.%[%]%*%+%-%?])\", \"%%%1\")\\n\\t\\t\\t\\tif filePath:find(databaseDirectoryMatchPattern .. \"/\") then\\n\\t\\t\\t\\t\\tgoto continue\\n\\t\\t\\t\\tend'], 'uris': None, 'data': None}\n",
      "43441cd566f3aa6b646c6fc5ed0dbf3a1500c2628f26557ba8c7cb4449667880\n",
      "{'ids': ['8cf1a154-5b4b-49a1-a67b-23962f2fd48b'], 'embeddings': None, 'metadatas': [{'file_name': 'init.lua', 'file_path': 'lua/spotlight/init.lua', 'file_type': '.lua', 'hash': '43441cd566f3aa6b646c6fc5ed0dbf3a1500c2628f26557ba8c7cb4449667880', 'source': 'lua/spotlight/init.lua'}], 'documents': ['local file = io.open(filePath, \"r\")\\n\\t\\t\\t\\tif not file then\\n\\t\\t\\t\\t\\tgoto continue\\n\\t\\t\\t\\tend\\n\\t\\t\\t\\tlocal content = file:read(\"*all\")\\n\\t\\t\\t\\tfile:close()\\n\\t\\t\\t\\tlocal insertCommand = opts.pythonPath\\n\\t\\t\\t\\t\\t.. \" \"\\n\\t\\t\\t\\t\\t.. embeddings\\n\\t\\t\\t\\t\\t.. \" store --db-location \"\\n\\t\\t\\t\\t\\t.. directoryLocation\\n\\t\\t\\t\\t\\t.. \"/\"\\n\\t\\t\\t\\t\\t.. opts.databaseDirectory\\n\\t\\t\\t\\t\\t.. \" --collection-name spotlight --model \"\\n\\t\\t\\t\\t\\t.. opts.ollamaModel\\n\\t\\t\\t\\t\\t.. \" --file-location \"\\n\\t\\t\\t\\t\\t.. filePath\\n\\t\\t\\t\\tlocal handle = io.popen(insertCommand, \"w\")\\n\\t\\t\\t\\tif not handle then\\n\\t\\t\\t\\t\\tgoto continue\\n\\t\\t\\t\\tend\\n\\t\\t\\t\\thandle:write(content)\\n\\t\\t\\t\\thandle:close()\\n\\n\\t\\t\\t\\t::continue::\\n\\t\\t\\tend\\n\\t\\tend\\n\\tend\\nend\\n\\nvim.api.nvim_create_user_command(\"Spotlight\", function()\\n\\tModule.exec(defaultOptions)\\nend, {})\\n\\nreturn Module'], 'uris': None, 'data': None}\n",
      "0fa9f225ccbcb8a44d9f0ee0a92d1a0a9e504bb01b467646235a7ccf8603f0a0\n",
      "{'ids': ['3600e513-4df5-4080-b545-52f0b33aee5c'], 'embeddings': None, 'metadatas': [{'file_name': 'ollama.py', 'file_path': 'retrieval/embeddings/langchain/ollama.py', 'file_type': '.py', 'hash': '0fa9f225ccbcb8a44d9f0ee0a92d1a0a9e504bb01b467646235a7ccf8603f0a0', 'source': 'retrieval/embeddings/langchain/ollama.py'}], 'documents': ['from typing import List, TypedDict\\nfrom langchain_community.embeddings.ollama import OllamaEmbeddings\\nfrom langchain_openai import OpenAIEmbeddings\\n\\n\\nclass OllamaEmbedDocumentsConfig(TypedDict):\\n    texts: List[str]\\n    model: str\\n\\n\\ndef embed_documents(config: OllamaEmbedDocumentsConfig) -> List[List[float]]:\\n    # embedder = OllamaEmbeddings(model=config[\"model\"])\\n    embedder = OpenAIEmbeddings()\\n    embeddings = embedder.embed_documents(config[\"texts\"])\\n    return embeddings'], 'uris': None, 'data': None}\n",
      "d200aa2f79cbdb7bb0d3bd6775f092c4bb43424137ef181a03e7da7b1f67466d\n",
      "{'ids': ['705d0754-4e39-4883-bc60-946e9a7b2166'], 'embeddings': None, 'metadatas': [{'file_name': 'git.py', 'file_path': 'retrieval/loaders/langchain/git.py', 'file_type': '.py', 'hash': 'd200aa2f79cbdb7bb0d3bd6775f092c4bb43424137ef181a03e7da7b1f67466d', 'source': 'retrieval/loaders/langchain/git.py'}], 'documents': ['from typing import Callable, List, Optional, TypedDict\\nfrom langchain_community.document_loaders import GitLoader\\nfrom langchain_core.documents import Document\\n\\n\\nclass GitLoadDocumentsConfig(TypedDict):\\n    path: str\\n    branch: str\\n    file_filter: Optional[Callable[[str], bool]]\\n\\n\\n# https://python.langchain.com/v0.1/docs/integrations/document_loaders/git/#load-existing-repository-from-disk\\ndef load_documents(config: GitLoadDocumentsConfig) -> List[Document]:\\n    loader = GitLoader(\\n        repo_path=config[\"path\"],\\n        branch=config[\"branch\"],\\n        file_filter=config[\"file_filter\"],\\n    )\\n    data = loader.load()\\n    return data'], 'uris': None, 'data': None}\n",
      "03f729e8dd688e824588ca469ad395414df221082225ef89655e57f2d3292779\n",
      "{'ids': ['dfe75591-9d13-4b55-a537-2313f7dd4133'], 'embeddings': None, 'metadatas': [{'file_name': 'code.py', 'file_path': 'retrieval/splitters/langchain/code.py', 'file_type': '.py', 'hash': '03f729e8dd688e824588ca469ad395414df221082225ef89655e57f2d3292779', 'source': 'retrieval/splitters/langchain/code.py'}], 'documents': ['from typing import List, Optional, TypedDict\\nfrom langchain_core.documents import Document\\nfrom langchain_text_splitters import Language, RecursiveCharacterTextSplitter\\n\\n\\nclass CodeSplitTextConfig(TypedDict):\\n    text: str\\n    language: Language\\n    chunk_size: Optional[int]\\n    chunk_overlap: Optional[int]\\n\\n\\n# https://python.langchain.com/v0.1/docs/modules/data_connection/document_transformers/code_splitter/\\ndef split_text(config: CodeSplitTextConfig) -> List[Document]:\\n    chunk_size = config.get(\"chunk_size\", 50)\\n    chunk_overlap = config.get(\"chunk_overlap\", 0)\\n    splitter = RecursiveCharacterTextSplitter.from_language(\\n        language=config[\"language\"], chunk_size=chunk_size, chunk_overlap=chunk_overlap\\n    )\\n    docs = splitter.create_documents([config[\"text\"]])\\n    return docs'], 'uris': None, 'data': None}\n",
      "3a2b77ea23ae0ad2a7c2490782cfb7c1557c96705b745ed8359bfc94e2a8d154\n",
      "{'ids': ['3e107c0a-8e07-438f-bc1d-58c8fd52c31b'], 'embeddings': None, 'metadatas': [{'file_name': 'chroma.py', 'file_path': 'retrieval/stores/langchain/chroma.py', 'file_type': '.py', 'hash': '3a2b77ea23ae0ad2a7c2490782cfb7c1557c96705b745ed8359bfc94e2a8d154', 'source': 'retrieval/stores/langchain/chroma.py'}], 'documents': ['from typing import List, Optional, TypedDict\\nfrom chromadb.api.types import Where, WhereDocument\\nfrom langchain_chroma import Chroma\\nfrom langchain_core.documents import Document\\nfrom langchain_core.embeddings import Embeddings\\n\\n\\nclass ChromaSetupConfig(TypedDict):\\n    collection_name: str\\n    embedding_function: Optional[Embeddings]\\n    persistent_directory: Optional[str]\\n\\n\\nclass ChromaStoreConfig(TypedDict):\\n    documents: List[Document]\\n    database: Chroma\\n\\n\\n# https://python.langchain.com/v0.1/docs/integrations/vectorstores/chroma/\\ndef setup_database(config: ChromaSetupConfig) -> Chroma:\\n    database = Chroma(\\n        collection_name=config[\"collection_name\"],\\n        embedding_function=config[\"embedding_function\"],\\n        persist_directory=config[\"persistent_directory\"],\\n    )\\n    return database\\n\\n\\n# def upsert(config: ChromaStoreConfig) -> List[str]:\\n#     return config[\"database\"].add_documents(config[\"documents\"]\\\\)'], 'uris': None, 'data': None}\n"
     ]
    }
   ],
   "source": [
    "updated_ids = update(database, split)"
   ]
  },
  {
   "cell_type": "code",
   "execution_count": 20,
   "id": "3945f12f-0d5a-459c-a13f-5cc868150606",
   "metadata": {
    "collapsed": true,
    "jupyter": {
     "outputs_hidden": true
    },
    "scrolled": true
   },
   "outputs": [
    {
     "name": "stdout",
     "output_type": "stream",
     "text": [
      "['c47ed45d-94ba-44f1-aee0-2dc5405c3ee2', '428abb56-e076-479e-9077-48fcd620cbad', '3a872450-26cb-45b9-8aa6-0555cdbc8b3a', '43c10404-4f01-425a-bbd3-c0ebf10cd008', 'd46c894c-37d3-478f-94e2-e3fa0fef0c58', 'ff9fe069-81e2-4ed0-90f2-3ed24494def1', 'eb78cc0e-2d54-4f0f-ab24-4056b11e7c1f', 'f93f67f3-05a4-4929-ae67-c60d37b0c3a6', '9db637c2-3668-41bf-ae00-e62ea2f97d9e', 'f1bd77a4-f5be-4c86-bc39-540feae5cf04', '8cf1a154-5b4b-49a1-a67b-23962f2fd48b', '3600e513-4df5-4080-b545-52f0b33aee5c', '705d0754-4e39-4883-bc60-946e9a7b2166', 'dfe75591-9d13-4b55-a537-2313f7dd4133', '3e107c0a-8e07-438f-bc1d-58c8fd52c31b']\n"
     ]
    }
   ],
   "source": [
    "print(added_ids)"
   ]
  },
  {
   "cell_type": "code",
   "execution_count": 173,
   "id": "fa28a549-ac54-4071-b6dc-8065ab321c4b",
   "metadata": {
    "collapsed": true,
    "jupyter": {
     "outputs_hidden": true
    },
    "scrolled": true
   },
   "outputs": [
    {
     "name": "stdout",
     "output_type": "stream",
     "text": [
      "['02950803-2033-47c9-9486-d353c44b0279', '04f52ff9-d13b-4004-aa37-2a542b4fbe36', '0895302d-ac9a-4cf1-a568-76eaf72dacc8', '09e031e7-e387-4568-8a59-99c907ff1ba4', '0a9a76d6-3337-4c78-81fa-1a4f54463931', '0f5b3525-3256-4ae9-8420-132c30a5e701', '0f8ecf4e-2da3-444b-a478-2ce9ef010ff1', '0f9da5b5-69c0-4e57-8e36-5e719588459b', '104a698d-0b9e-47af-9f8b-214d4f8db7ab', '11ab000d-5710-40cc-aa2a-5e39a0a96b35', '122ffc8c-e574-498d-a385-5dccc14e416c', '14ace4f9-bfea-43c8-a514-7fff5d4987a8', '17b5628f-796d-4ef1-9682-1cb54cc524d9', '1cb6e9fc-bd70-4b97-aebf-c46c0ea2982c', '1d3bec19-1eb7-48c6-94a7-bda255a59431', '1d636be2-4636-4ac8-9329-1b4bc8b1cafc', '1d857642-abad-48d8-9d18-c6c5802a3d44', '1de7550c-26ac-4cef-ba3c-dea3cef488a3', '1ec2c6ed-e6ee-444b-8546-b6dbb40e7041', '1ede520a-d0ee-48ca-bb2d-d4910902e90e', '1f622186-5b7b-4d9e-a243-edb244620a31', '20ec73b8-38c0-4cbe-a1a1-fbc2b0a9fafd', '231c42a2-b621-4f6d-bf3f-107a5336958f', '263e4b90-a35d-482c-84d6-003c2b2ff7f8', '269f8529-761a-45d6-b891-cfd8ae2913b7', '2ac15768-764e-4c24-8c7c-726be731c2d2', '2ccf5e87-bc66-4335-ae32-15c90969edeb', '2dcd1410-d744-40e1-9a69-0324013ec60b', '2e16211e-e6a0-4b03-b97d-7eb58c5502a5', '2e4e0464-ceb1-496c-a598-824802ea05c5', '30e3c3cd-0712-4bc8-b7f7-6099693307e3', '3175ffe8-a05b-417f-9d3d-3c94f4928323', '344e8401-1946-4301-8ff7-3fd125195c32', '34e8abcf-9f26-45f0-9a3f-75660e7581f9', '3889b588-d366-4fc2-99c5-e476cec00051', '3b456968-a5a2-4656-b28e-16ab64ffb653', '3f956a54-8ee5-4a73-94e6-761f4a0d5d3a', '42223043-8dc8-4715-86a5-9e4216de2903', '4227fda9-6267-4115-b411-00e734561ea3', '42679d04-8f3d-499b-b4de-692a734a68e2', '44077b69-1844-4e1e-8c4e-a2ade3b89c78', '442483fa-c02d-4d6c-ab3e-02bdf3b929f3', '45282e5b-4285-4484-8a29-e7d536df82c4', '4540d5de-ddad-403b-aee7-137727bdafe0', '46aecdee-c95e-4b3b-9910-9b81559ad4fc', '4c7a180f-45f7-441f-942e-e21cfeb61246', '4d71022b-4f34-44f6-a052-b39342625326', '4dea1729-2b09-49ef-a458-79223bfa4c9e', '4ec08000-26ff-4a69-bf5e-7c5c0870e46c', '4fe07664-efbd-471a-9a80-aa865bc97ecc', '56065442-d38c-44f8-ad00-b4d290fe9d8e', '5691e837-79dc-4a66-9457-e613d6a89698', '56be8c99-72ee-4d8a-8d13-0ba44025de23', '56fad181-8f9d-4f57-bdb3-79466a80f61b', '57f89280-dce6-4325-b8fa-edc2cd7a63af', '5c796972-7789-41b5-acc5-02cf96d6766e', '5d19d207-7245-4743-b512-0ea5bab4890d', '5e316197-2fed-47ee-b498-efcefc93dd6b', '5e48ff79-efaa-41a3-8166-4033589fa326', '5fa8fc5b-0c8b-4f0e-a290-ffd292be5f61', '6041748f-252d-460d-998a-a0e677217152', '62a50923-c2ec-4e70-bb9a-a23b29208f68', '62aa16ad-65df-403f-9524-db8d535f4e0a', '66404005-fb22-4697-9037-321e7dcdc64f', '66cdb60d-bea7-4ee7-99e0-6105d08f7f62', '6875aabc-2766-4ed2-8bee-32ff97a5d978', '68c8bccc-8f6c-488e-8b24-48d1ef943253', '6d080df7-9383-4335-a4b9-35a71718a4ae', '6dcba397-bf69-48ff-ba54-9cda10027c23', '6e2849d2-14c5-4fd1-b5c3-c39611a985de', '6eb4e46f-49af-4522-83ab-b39552115ce6', '6f604ae6-c3df-4481-8086-6ce02d11c906', '74fa1af6-90ac-4b4b-9084-285af790265c', '751d826e-7aa6-43d2-9e89-fa240f4bc27a', '764838a3-7639-413e-b946-f7e75de90c00', '76c604ce-f9ae-4b48-80e2-ec9df5fab994', '780851b5-b652-463e-bc65-66fff16e5417', '78b14b28-dc7e-45a6-8f9d-9f34e5cf6d0f', '79875d17-532b-4199-8d27-e5c4bcc0bcc6', '7cf5880b-184c-4434-95ca-d2c7f78acb6b', '7d2553e5-40b4-4320-b37f-d9b1f9b5891b', '7d33baa1-5d82-4797-b27f-d22ef91b5014', '7d798ec0-fe61-4a41-b23d-921910a00f07', '804dcb17-c515-4280-b041-b243f553f326', '82980288-2728-4319-8239-a5cef2b8dc20', '82ce82b7-d225-4419-b209-62be979d0bca', '837d08a6-293a-40ed-bb4b-1f53cee516cb', '85806378-9c63-4119-a59b-ec91f2b3f3c7', '873d26f7-bf54-4d60-b4dc-349ffb8ccf33', '8a2fc012-5b8d-44e2-ac5b-071837c59420', '8a7ae6da-ab6f-463c-a5fa-93238713c7b0', '8ec220c0-db80-4f9c-9af6-cf4db1917244', '8efb0ade-546b-4b69-a942-bd351c5abb7d', '8f0747e6-d567-441e-b389-e287924992ad', '90195f7e-1eb3-4050-9678-26d26a960224', '922315f2-e6ab-4501-a9b0-fe49305e071c', '9412df1b-f2ac-4e6f-a6c5-e0d9a5cfd47d', '9a82db59-a754-4671-9c19-766fbc6716ab', '9aeb62c1-3931-4b52-940e-e1706e5057d9', '9bb69091-96d8-4065-afb4-b525258eef62', '9ccc5f0a-6125-49b8-8f74-d6a1cf433193', '9d2242e8-6ce0-4634-a047-43423371be35', '9dfdfead-1f26-41eb-a17e-1c0b2b6279e4', '9e866158-fb5c-4f46-9e48-54aef7a97ad6', 'a01b8342-137e-45fd-9620-b1a7bdfaf211', 'a12596bc-5caa-42af-b73d-fc0ef89b3236', 'a1cbcdfd-7999-4936-b674-50471ad5f821', 'a57aba9b-7f18-44f1-ba10-8b7ddc791a30', 'a74dd074-f2e2-4905-9e99-66d4992158ee', 'a9e02838-ea6a-4fa6-8756-ab0f96338375', 'a9e9b959-6af5-4b22-a198-b4eaaf41017d', 'aa6cc3a7-2df8-4765-b78b-b11ab71894e0', 'aad3e6ff-d4b8-42b8-9297-086b1380161d', 'ac541374-42b7-4219-95cb-01d2457b3c4a', 'aca6f3ac-ed0d-4cc9-b0f1-a5b6e756d33b', 'add4721d-5b63-403f-b426-0263100ab6ed', 'b02a8df7-c79d-4233-b7ae-f68828a07024', 'b5120fbe-4504-4965-bcca-77e2f9f1397b', 'b6c14c7a-5ae2-477e-a5f8-138f2abfa450', 'b7ae7bab-317a-4296-a20e-b2ea33da739f', 'b8a2510a-340b-49b2-a1db-408b8271d32d', 'ba9283a5-f54d-453c-8741-98a7082c292d', 'bb1fb890-81e8-4d3d-a413-eba66de59f6a', 'bcac51bd-29e7-4508-9176-a4a1d81c0b74', 'bceefcc1-9afb-46e9-9be9-aaacfb67c2c1', 'bf22eb7b-2954-4f64-b3b6-5bba60f2f8dc', 'c00af574-4291-4f61-b0bd-710d29f655a1', 'c351b17f-74ad-4e26-a9ee-7fd7e7508059', 'c3655b3c-0cc7-4748-b8c6-74904b513b00', 'c63828d1-69f0-4be8-8825-4f1dc493b069', 'c6593725-a949-439a-8eab-ed61ed5b27d2', 'c83db3ac-c0cf-4eec-a5f0-e866ed8844dd', 'c840c367-d818-4d1d-850d-d9447c329079', 'cb1164b9-a08c-441d-ac4b-13cc0073e245', 'cbf9c2ba-8c25-472f-810e-70b182b77d67', 'cc6975f1-543d-4461-bf92-2cdf3c8a7f4a', 'cc9154db-13c6-45b0-8852-6b87a06317dd', 'd5852b2b-664e-46f9-af9b-9ca34bfa7d21', 'd637b3c2-d200-4b66-8f41-a390d91995ed', 'd6a851a3-08bd-4db6-8411-be49b9e1d489', 'd6bfacb6-9168-4a17-a286-6288f8d861d0', 'da39953e-8216-4257-a1b9-576282448a3e', 'da405e1d-ef32-4497-9d90-c2cf19e2d00b', 'db4f68b2-c6fe-4e24-a518-30ff585a765d', 'dc722224-089b-4556-bddc-ce41ae69cb15', 'dd1f207c-4625-4754-87a7-f4c09fd01b05', 'df3774db-50aa-4a6c-acfa-f7fec07d5e5d', 'e0710a40-4736-480a-9284-0998ad533d6e', 'e1f0f350-bb2f-4214-9ea2-dea8f24ab20f', 'e42bd14c-fc25-4ae1-9cbd-8a5afea0fb98', 'e4c5c3b7-d894-4c7c-b390-478d7648460a', 'e6c01cc1-3509-4bb1-8827-ae6d462618c1', 'e8e077d9-707e-41b8-9a23-81cd56276f92', 'ec0b088f-bdf4-48f7-86c5-6edd33e274b3', 'ed3f98ab-e2c1-4024-a0cb-c99f30739dac', 'f2ad096f-6ce9-40d1-a6c6-9d8f6ea8ec0d', 'f2d06888-1060-4b97-9b1c-b05a2dbfb53a', 'f59a3557-eff2-49f0-8750-49f24a869327', 'f9152ba4-c351-4669-ac4e-0c0e9b78fb78', 'fc5e3b1a-6fbb-4780-a4a2-489a94c1230f', 'fd1c66d9-9cac-450d-b053-7159e77c3bbb', 'fef3fa42-61e1-4b11-890a-823c6c788127']\n"
     ]
    }
   ],
   "source": [
    "print(deleted_ids)"
   ]
  },
  {
   "cell_type": "code",
   "execution_count": 22,
   "id": "0341c13a-740e-494a-90dd-0331f287ab12",
   "metadata": {
    "collapsed": true,
    "jupyter": {
     "outputs_hidden": true
    }
   },
   "outputs": [
    {
     "name": "stdout",
     "output_type": "stream",
     "text": [
      "0\n"
     ]
    }
   ],
   "source": [
    "print(len(database.get()[\"ids\"]))"
   ]
  },
  {
   "cell_type": "code",
   "execution_count": 39,
   "id": "d23a6534-13df-40fe-bd3b-bcbdab519db2",
   "metadata": {
    "collapsed": true,
    "jupyter": {
     "outputs_hidden": true
    }
   },
   "outputs": [
    {
     "name": "stdout",
     "output_type": "stream",
     "text": [
      ".gitignore\n",
      "lua/spotlight/init.lua\n",
      "retrieval/embeddings/langchain/ollama.py\n",
      "embeddings.py\n",
      "retrieval/stores/langchain/chroma.py\n",
      "retrieval/splitters/langchain/code.py\n",
      "retrieval/loaders/langchain/git.py\n"
     ]
    }
   ],
   "source": [
    "storage = database.get()\n",
    "metadatas = storage[\"metadatas\"]\n",
    "seenfiles = set()\n",
    "for metadata in metadatas:\n",
    "    filepath = metadata[\"file_path\"]\n",
    "    if filepath not in seenfiles:\n",
    "        print(filepath)\n",
    "        seenfiles.add(filepath)"
   ]
  },
  {
   "cell_type": "markdown",
   "id": "f922ef5a-1ed1-43c9-be15-0910d7149511",
   "metadata": {},
   "source": [
    "# Retrieval"
   ]
  },
  {
   "cell_type": "code",
   "execution_count": 50,
   "id": "ecfd9d3d-3dfe-4f14-9b77-71c0e5a89931",
   "metadata": {
    "collapsed": true,
    "jupyter": {
     "outputs_hidden": true
    }
   },
   "outputs": [],
   "source": [
    "prompt = '''\n",
    "\"ollama\"\n",
    "'''"
   ]
  },
  {
   "cell_type": "markdown",
   "id": "9d0d25f3-83da-45e2-b111-12af4a9baf9c",
   "metadata": {},
   "source": [
    "### Vector store-backed retriever"
   ]
  },
  {
   "cell_type": "code",
   "execution_count": 61,
   "id": "5514fd06-bdea-49ea-89d3-d26680f13cf4",
   "metadata": {
    "collapsed": true,
    "jupyter": {
     "outputs_hidden": true
    }
   },
   "outputs": [],
   "source": [
    "retriever = database.as_retriever(search_type=\"mmr\")"
   ]
  },
  {
   "cell_type": "code",
   "execution_count": 62,
   "id": "5975a621-a30a-4cd0-b5ee-a7410154703a",
   "metadata": {
    "collapsed": true,
    "jupyter": {
     "outputs_hidden": true
    }
   },
   "outputs": [],
   "source": [
    "documents = retriever.invoke(prompt)"
   ]
  },
  {
   "cell_type": "markdown",
   "id": "e9e3b1de-1887-48bf-bd5c-ce04bf7b9639",
   "metadata": {},
   "source": [
    "### Native database query"
   ]
  },
  {
   "cell_type": "code",
   "execution_count": 59,
   "id": "f763f018-d384-4277-8e63-f2ba3c693b77",
   "metadata": {
    "collapsed": true,
    "jupyter": {
     "outputs_hidden": true
    }
   },
   "outputs": [],
   "source": [
    "documents = database.similarity_search(prompt)"
   ]
  },
  {
   "cell_type": "markdown",
   "id": "cf21e7ac-5693-4577-8b67-cdc5b4bf2728",
   "metadata": {},
   "source": [
    "### Parent Document Retriever"
   ]
  },
  {
   "cell_type": "code",
   "execution_count": 51,
   "id": "794bf822-1545-4cfa-9593-7e1011c69222",
   "metadata": {
    "collapsed": true,
    "jupyter": {
     "outputs_hidden": true
    }
   },
   "outputs": [],
   "source": [
    "from langchain.retrievers import ParentDocumentRetriever\n",
    "from langchain.storage import InMemoryStore"
   ]
  },
  {
   "cell_type": "code",
   "execution_count": 70,
   "id": "bf4d1733-0fd5-490a-8073-87754247a8c7",
   "metadata": {},
   "outputs": [],
   "source": [
    "store = InMemoryStore()\n",
    "retriever = ParentDocumentRetriever(\n",
    "    vectorstore=database,\n",
    "    docstore=store,\n",
    "    child_splitter=RecursiveCharacterTextSplitter.from_language(\"python\", chunk_size=50, chunk_overlap=10),\n",
    "    parent_splitter=RecursiveCharacterTextSplitter.from_language(\"python\", chunk_size=200, chunk_overlap=10)\n",
    ")"
   ]
  },
  {
   "cell_type": "code",
   "execution_count": null,
   "id": "f10fd3e8-6e45-4a5e-b13f-c0c1d6fbdbfe",
   "metadata": {},
   "outputs": [],
   "source": [
    "retriever.add_documents(data, ids=None)"
   ]
  },
  {
   "cell_type": "code",
   "execution_count": 54,
   "id": "0ed7be31-1024-4079-948d-82e9f2c8ff44",
   "metadata": {
    "collapsed": true,
    "jupyter": {
     "outputs_hidden": true
    }
   },
   "outputs": [
    {
     "data": {
      "text/plain": [
       "['3a615de4-fa9c-4117-92c1-e7af1df233b6',\n",
       " '7fb24242-156a-42b8-9905-9630e5237549',\n",
       " '490c9452-6b32-4a8c-833a-8f2473e22473',\n",
       " 'ca21c008-c9f3-443e-93e8-a2786564c81b',\n",
       " '51e157b8-5497-4d48-b321-28671581735b',\n",
       " '645f402b-7627-4c99-bc85-ac3e0502fabb',\n",
       " '6b8f98ec-ea02-4a4e-b7b3-4ed958b26d1e',\n",
       " '13a278d3-b35c-419f-8430-e0b21e5ed97f']"
      ]
     },
     "execution_count": 54,
     "metadata": {},
     "output_type": "execute_result"
    }
   ],
   "source": [
    "list(store.yield_keys())"
   ]
  },
  {
   "cell_type": "code",
   "execution_count": null,
   "id": "8ecbde67-8177-4f7b-9d34-7245019af878",
   "metadata": {
    "scrolled": true
   },
   "outputs": [],
   "source": [
    "documents = database.similarity_search(prompt)\n",
    "print(documents[0].page_content)\n",
    "retrieved_documents = retriever.invoke(prompt)\n",
    "print(retrieved_documents)"
   ]
  },
  {
   "cell_type": "markdown",
   "id": "d2c7a228-f872-4b87-ba34-c8a4411cac18",
   "metadata": {},
   "source": [
    "### Custom Retriever"
   ]
  },
  {
   "cell_type": "code",
   "execution_count": 64,
   "id": "6753101a-fa43-4c8a-ba84-580cf06e530e",
   "metadata": {
    "collapsed": true,
    "jupyter": {
     "outputs_hidden": true
    }
   },
   "outputs": [],
   "source": [
    "from langchain.retrievers import EnsembleRetriever"
   ]
  },
  {
   "cell_type": "code",
   "execution_count": null,
   "id": "0cf43a24-1bf7-4680-bbd5-f64690b78bb1",
   "metadata": {
    "collapsed": true,
    "jupyter": {
     "outputs_hidden": true
    }
   },
   "outputs": [],
   "source": []
  },
  {
   "cell_type": "markdown",
   "id": "03b0c8d4-5949-4164-ad54-f8ffd65f74ab",
   "metadata": {},
   "source": [
    "### Print Results"
   ]
  },
  {
   "cell_type": "code",
   "execution_count": 69,
   "id": "8c34bb62-88e1-47bb-8a84-2396db88dedb",
   "metadata": {},
   "outputs": [
    {
     "name": "stdout",
     "output_type": "stream",
     "text": [
      "embeddings.py\n",
      "retrieval/stores/langchain/chroma.py\n",
      "embeddings.py\n",
      "lua/spotlight/init.lua\n"
     ]
    }
   ],
   "source": [
    "for document in documents:\n",
    "    document = document.dict()\n",
    "    print(document[\"metadata\"][\"file_path\"])"
   ]
  },
  {
   "cell_type": "code",
   "execution_count": null,
   "id": "bacf940d-2031-4f12-86c4-98255ef91916",
   "metadata": {
    "collapsed": true,
    "jupyter": {
     "outputs_hidden": true
    }
   },
   "outputs": [],
   "source": []
  }
 ],
 "metadata": {
  "kernelspec": {
   "display_name": "Python 3 (ipykernel)",
   "language": "python",
   "name": "python3"
  },
  "language_info": {
   "codemirror_mode": {
    "name": "ipython",
    "version": 3
   },
   "file_extension": ".py",
   "mimetype": "text/x-python",
   "name": "python",
   "nbconvert_exporter": "python",
   "pygments_lexer": "ipython3",
   "version": "3.12.2"
  }
 },
 "nbformat": 4,
 "nbformat_minor": 5
}
